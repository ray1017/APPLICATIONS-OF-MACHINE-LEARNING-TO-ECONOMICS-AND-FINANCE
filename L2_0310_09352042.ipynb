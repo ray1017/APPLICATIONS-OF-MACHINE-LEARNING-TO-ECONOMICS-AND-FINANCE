{
 "cells": [
  {
   "cell_type": "markdown",
   "metadata": {},
   "source": [
    "## NOTES"
   ]
  },
  {
   "cell_type": "markdown",
   "metadata": {},
   "source": [
    "* if condition:\n",
    "    statement(s)\n",
    "\n",
    "condition:情境\n",
    "statement(s):指令\n",
    "\n",
    "若情境符合 -> 執行敘述(指令)"
   ]
  },
  {
   "cell_type": "code",
   "execution_count": null,
   "metadata": {},
   "outputs": [],
   "source": [
    "if 1 < 2:\n",
    "    print('True')\n",
    "else:\n",
    "    print('False')"
   ]
  },
  {
   "cell_type": "code",
   "execution_count": null,
   "metadata": {},
   "outputs": [],
   "source": [
    "#根據input一行一行執行\n",
    "score = eval(input(\"請輸入總成績....\"))\n",
    "if score >= 90:\n",
    "    print('A')\n",
    "elif score < 90 and score >= 80:\n",
    "    print('B')\n",
    "elif score < 80 and score >= 70:\n",
    "    print('C')\n",
    "elif score < 70 and score >= 60:\n",
    "    print('D')\n",
    "else:\n",
    "    print('E')"
   ]
  },
  {
   "cell_type": "code",
   "execution_count": null,
   "metadata": {},
   "outputs": [],
   "source": [
    "#python告訴你指令意思\n",
    "help(len)"
   ]
  },
  {
   "cell_type": "markdown",
   "metadata": {},
   "source": [
    "* functions 使用者函數\n",
    "def functionName (parameter1, parameter2, parameter3...):\n",
    "    statements\n",
    "    [return / return value]\n",
    "\n",
    "參數(parameter)要按照順序打\n",
    "\n",
    "[Note]:\n",
    "\n",
    "def列的最後要加:\n",
    "1.執行內容要縮排, 常用四個空格\n",
    "2.函式被呼叫才會執行，\n",
    "3.函式可以沒有參數或多個參數。當函式有多個參數時，參數有順序上的關係，參數的個數及順序均不能弄錯, 如果沒有依照定義函數時的參數順序填入, 填入4.參數時必須指明參數名稱。有預設值的參數要放在最後, 呼叫時有預設值的參數不一定要填"
   ]
  },
  {
   "cell_type": "markdown",
   "metadata": {},
   "source": [
    "## Exercise"
   ]
  },
  {
   "cell_type": "markdown",
   "metadata": {},
   "source": [
    "1.You are driving a little too fast, and a police officer stops you.\n",
    "Write a function to return one of 3 possible results:\n",
    "\"No ticket\", \"Small ticket\", or \"Big Ticket\".\n",
    "\n",
    "If your speed is 60 or less, the result is \"No Ticket\".\n",
    "If speed is between 61 and 80 inclusive, the result is \"Small Ticket\".\n",
    "If speed is 81 or more, the result is \"Big Ticket\".\n",
    "Unless it is your birthday (encoded as a boolean value in the parameters of the function) -- on your birthday, your speed can be 5 higher in all cases."
   ]
  },
  {
   "cell_type": "code",
   "execution_count": 20,
   "metadata": {},
   "outputs": [
    {
     "name": "stdout",
     "output_type": "stream",
     "text": [
      "Is today your birthday? (Y/N)n\n",
      "Input your speed:60\n",
      "No Ticket\n"
     ]
    }
   ],
   "source": [
    "#詢問生日\n",
    "birthday = input('Is today your birthday? (Y/N)')\n",
    "\n",
    "#詢問speed\n",
    "speed = float(input('Input your speed:'))\n",
    "\n",
    "if birthday == 'y' or birthday == 'Y':\n",
    "    if speed <= 65:\n",
    "        print('No Ticket')\n",
    "    elif speed > 65 and speed <= 85:\n",
    "        print('Small Ticket')\n",
    "    else:\n",
    "        print('Big Ticket')\n",
    "\n",
    "else: \n",
    "    if speed <= 60:\n",
    "        print('No Ticket')\n",
    "    elif speed > 60 and speed <= 80:\n",
    "        print('Small Ticket')\n",
    "    else:\n",
    "        print('Big Ticket')\n",
    "        "
   ]
  },
  {
   "cell_type": "markdown",
   "metadata": {},
   "source": [
    "2.寫一個函數isPrime, 參數n, 判n是不是質數, 如果是回傳True, 不是回傳False"
   ]
  },
  {
   "cell_type": "code",
   "execution_count": 30,
   "metadata": {},
   "outputs": [
    {
     "name": "stdout",
     "output_type": "stream",
     "text": [
      "請輸入任一參數:15\n",
      "False\n"
     ]
    }
   ],
   "source": [
    "def main():\n",
    "    n = int(input('請輸入任一參數:'))\n",
    "    print(isPrime(n))\n",
    "\n",
    "def isPrime(n):\n",
    "    if n > 2:\n",
    "        for i in range(2,n):\n",
    "            if n % i == 0:\n",
    "                return False\n",
    "        return True\n",
    "    elif n == 2:\n",
    "        return True\n",
    "main()\n"
   ]
  },
  {
   "cell_type": "markdown",
   "metadata": {},
   "source": [
    "3.要求使用者輸入密碼, 並將使用者輸入的密碼儲存於password識別字中, 判斷密碼是否等於<1234>\n",
    "如果密碼是<1234>, 就顯示\"你輸入的密碼正確\"\n",
    "如果密碼不是<1234>, 就顯示\"你輸入的密碼錯誤\""
   ]
  },
  {
   "cell_type": "code",
   "execution_count": null,
   "metadata": {},
   "outputs": [],
   "source": [
    "#Create variable for password\n",
    "password = int(input('請輸入密碼:'))\n",
    "\n",
    "#Determine password eqauls 1234 or not\n",
    "if password == 1234:\n",
    "    print('你輸入的密碼正確')\n",
    "else:\n",
    "    print('你輸入的密碼錯誤')"
   ]
  }
 ],
 "metadata": {
  "kernelspec": {
   "display_name": "Python 3",
   "language": "python",
   "name": "python3"
  },
  "language_info": {
   "codemirror_mode": {
    "name": "ipython",
    "version": 3
   },
   "file_extension": ".py",
   "mimetype": "text/x-python",
   "name": "python",
   "nbconvert_exporter": "python",
   "pygments_lexer": "ipython3",
   "version": "3.8.3"
  }
 },
 "nbformat": 4,
 "nbformat_minor": 4
}
