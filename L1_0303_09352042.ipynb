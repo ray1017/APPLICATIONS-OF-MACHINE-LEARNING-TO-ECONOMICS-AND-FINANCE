{
 "cells": [
  {
   "cell_type": "markdown",
   "metadata": {},
   "source": [
    " ## Notes"
   ]
  },
  {
   "cell_type": "raw",
   "metadata": {},
   "source": [
    "Machine learning\n",
    "\n",
    "1.分類問題：這是A類 或 B類嗎？\n",
    "\n",
    "2.異常值判斷：這很奇怪嗎？\n",
    "\n",
    "3.預測性分析：有多少？\n",
    "\n",
    "4.分群問題：這是如何組織的？\n",
    "\n",
    "5.增強學習協助決策：我接下來該怎麼辦？\n",
    "\n",
    "* 機器學習演算法(Algorithm)\n",
    "\n",
    "* Python程式語言和資料分析函式庫\n",
    "\n",
    "* 線性代數/統計學等相關學門\n",
    "\n",
    "* 專業領域的領域知識（Domain Knowledge）"
   ]
  },
  {
   "cell_type": "markdown",
   "metadata": {},
   "source": [
    "Machine learning workflow\n",
    "\n",
    "1.Get data\n",
    "\n",
    "2.Clean,prepare & mainpulate data\n",
    "\n",
    "3.Train model\n",
    "\n",
    "4.Test data\n",
    "    a. test dataset:model不能只適用於特定資料集，因此需要test dataset來測試\n",
    "\n",
    "5.Improve"
   ]
  },
  {
   "cell_type": "markdown",
   "metadata": {},
   "source": [
    "Algorithm\n",
    "\n",
    "* Supervised\n",
    "\n",
    "Caregories:\n",
    "1.Regression\n",
    "\n",
    "2.Classification(0,1)\n",
    "->有y\n",
    "->資料清理需處理許多features\n",
    "\n",
    "EX:\n",
    "y=a+bx+....\n",
    "y->outcome\n",
    "x->labeled data(features)\n",
    "\n",
    "* Unsupervised ->沒有y\n",
    "\n",
    "Caregories:\n",
    "1.Clustering\n",
    "\n",
    "2.Dimensionality Reduction\n",
    "\n",
    "    a.No label\n",
    "\n",
    "    b.No feedback\n",
    "\n",
    "    c.Find hidden structure in data\n",
    "\n",
    "Ex:透過features，取得最高願付價格 -> 差別取價\n",
    "\n",
    "* Reinforcement\n",
    "\n",
    "強化式學習(持續性做預測)\n",
    "1.Decision process\n",
    "\n",
    "2.Reward system\n",
    "\n",
    "3.Learn series of actions"
   ]
  },
  {
   "cell_type": "markdown",
   "metadata": {},
   "source": [
    "Python具有大量的支援工具，這些支援工具稱之為套件 (package)，不僅可以免費取得，而且對於Python的應用提供了大量的支援，使得Python的應用領域變得非常廣泛。\n",
    "\n",
    "* Numpy:數字\n",
    "\n",
    "* Pandas:視覺化\n",
    "\n",
    "* Matplotlib:視覺化\n",
    "\n",
    "* Seaborn:視覺化\n",
    "\n",
    "* SciKit-Learn:import model"
   ]
  },
  {
   "cell_type": "markdown",
   "metadata": {},
   "source": [
    "## Code"
   ]
  },
  {
   "cell_type": "markdown",
   "metadata": {},
   "source": [
    "Path"
   ]
  },
  {
   "cell_type": "code",
   "execution_count": null,
   "metadata": {},
   "outputs": [],
   "source": [
    "import os\n",
    "os.getcwd()  #取得檔案路徑"
   ]
  },
  {
   "cell_type": "code",
   "execution_count": null,
   "metadata": {},
   "outputs": [],
   "source": [
    "print('Hello world')"
   ]
  },
  {
   "cell_type": "markdown",
   "metadata": {},
   "source": [
    "Type"
   ]
  },
  {
   "cell_type": "code",
   "execution_count": null,
   "metadata": {},
   "outputs": [],
   "source": [
    "type(1)"
   ]
  },
  {
   "cell_type": "code",
   "execution_count": null,
   "metadata": {},
   "outputs": [],
   "source": [
    "type(1.5)"
   ]
  },
  {
   "cell_type": "code",
   "execution_count": null,
   "metadata": {},
   "outputs": [],
   "source": [
    "type('hello')"
   ]
  },
  {
   "cell_type": "markdown",
   "metadata": {},
   "source": [
    "## Assignment"
   ]
  },
  {
   "cell_type": "markdown",
   "metadata": {},
   "source": [
    "請使用Python輸入：list_1=['a', 'b', 'c', 'd']，然後再輸入下列敘述，看運算的結果如何。\n",
    "\n",
    "a. list_1\n",
    "\n",
    "b. list_1* 5\n",
    "\n",
    "c. list_1.reverse( )\n",
    "\n",
    "d. list_1.remove('c')\n",
    "\n",
    "e. list_1.insert(1,'f')"
   ]
  },
  {
   "cell_type": "code",
   "execution_count": 12,
   "metadata": {},
   "outputs": [],
   "source": [
    "list_1=['a', 'b', 'c', 'd']"
   ]
  },
  {
   "cell_type": "code",
   "execution_count": null,
   "metadata": {},
   "outputs": [],
   "source": [
    "list_1"
   ]
  },
  {
   "cell_type": "code",
   "execution_count": null,
   "metadata": {},
   "outputs": [],
   "source": [
    "list_1* 5"
   ]
  },
  {
   "cell_type": "code",
   "execution_count": 8,
   "metadata": {},
   "outputs": [
    {
     "data": {
      "text/plain": [
       "['d', 'c', 'b', 'a']"
      ]
     },
     "execution_count": 8,
     "metadata": {},
     "output_type": "execute_result"
    }
   ],
   "source": [
    "list_1.reverse( )\n",
    "list_1"
   ]
  },
  {
   "cell_type": "code",
   "execution_count": 11,
   "metadata": {},
   "outputs": [
    {
     "data": {
      "text/plain": [
       "['a', 'b', 'd']"
      ]
     },
     "execution_count": 11,
     "metadata": {},
     "output_type": "execute_result"
    }
   ],
   "source": [
    "list_1.remove('c')\n",
    "list_1"
   ]
  },
  {
   "cell_type": "code",
   "execution_count": 6,
   "metadata": {},
   "outputs": [
    {
     "data": {
      "text/plain": [
       "['a', 'f', 'b', 'c', 'd']"
      ]
     },
     "execution_count": 6,
     "metadata": {},
     "output_type": "execute_result"
    }
   ],
   "source": [
    "list_1.insert(1,'f')\n",
    "list_1"
   ]
  },
  {
   "cell_type": "markdown",
   "metadata": {},
   "source": [
    "use print funtion to write down your first code! 第一堂課的心得(任何的建議）"
   ]
  },
  {
   "cell_type": "code",
   "execution_count": 15,
   "metadata": {},
   "outputs": [
    {
     "name": "stdout",
     "output_type": "stream",
     "text": [
      "本堂課程讓我對機器學習之流程有初步了解，整個流程之中，最花時間的式資料前處理及資料清理的步驟，同時老師也簡介監督式學習、非監督式學習、增強式學習，讓我們了解因應不同需求或場景的學習方式，最後則是講解python的套件、資料型態、運算等，希望老師未來能上網路爬蟲，如此一來在資料蒐集上，將能更有效率獲取更多元的資料。\n"
     ]
    }
   ],
   "source": [
    "print('本堂課程讓我對機器學習之流程有初步了解，整個流程之中，\\\n",
    "最花時間的式資料前處理及資料清理的步驟，同時老師也簡介監督式學習、非監督式學習、增強式學習，\\\n",
    "讓我們了解因應不同需求或場景的學習方式，\\\n",
    "最後則是講解python的套件、資料型態、運算等，希望老師未來能上網路爬蟲，如此一來在資料蒐集上，\\\n",
    "將能更有效率獲取更多元的資料。')"
   ]
  }
 ],
 "metadata": {
  "kernelspec": {
   "display_name": "Python 3",
   "language": "python",
   "name": "python3"
  },
  "language_info": {
   "codemirror_mode": {
    "name": "ipython",
    "version": 3
   },
   "file_extension": ".py",
   "mimetype": "text/x-python",
   "name": "python",
   "nbconvert_exporter": "python",
   "pygments_lexer": "ipython3",
   "version": "3.8.3"
  }
 },
 "nbformat": 4,
 "nbformat_minor": 4
}
